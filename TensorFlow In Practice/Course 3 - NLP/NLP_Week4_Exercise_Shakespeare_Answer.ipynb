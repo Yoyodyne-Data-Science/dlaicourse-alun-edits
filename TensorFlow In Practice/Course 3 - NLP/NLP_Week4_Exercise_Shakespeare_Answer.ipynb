{
 "cells": [
  {
   "cell_type": "code",
   "execution_count": 0,
   "metadata": {
    "colab": {},
    "colab_type": "code",
    "id": "zX4Kg8DUTKWO"
   },
   "outputs": [],
   "source": [
    "#@title Licensed under the Apache License, Version 2.0 (the \"License\");\n",
    "# you may not use this file except in compliance with the License.\n",
    "# You may obtain a copy of the License at\n",
    "#\n",
    "# https://www.apache.org/licenses/LICENSE-2.0\n",
    "#\n",
    "# Unless required by applicable law or agreed to in writing, software\n",
    "# distributed under the License is distributed on an \"AS IS\" BASIS,\n",
    "# WITHOUT WARRANTIES OR CONDITIONS OF ANY KIND, either express or implied.\n",
    "# See the License for the specific language governing permissions and\n",
    "# limitations under the License."
   ]
  },
  {
   "cell_type": "code",
   "execution_count": 7,
   "metadata": {
    "colab": {},
    "colab_type": "code",
    "id": "BOwsuGQQY9OL"
   },
   "outputs": [],
   "source": [
    "from tensorflow.keras.preprocessing.sequence import pad_sequences\n",
    "from tensorflow.keras.layers import Embedding, LSTM, Dense, Dropout, Bidirectional\n",
    "from tensorflow.keras.preprocessing.text import Tokenizer\n",
    "from tensorflow.keras.models import Sequential\n",
    "from tensorflow.keras.optimizers import Adam\n",
    "from tensorflow.keras import regularizers\n",
    "import tensorflow.keras.utils as ku \n",
    "import numpy as np "
   ]
  },
  {
   "cell_type": "code",
   "execution_count": 3,
   "metadata": {
    "colab": {},
    "colab_type": "code",
    "id": "PRnDnCW-Z7qv"
   },
   "outputs": [],
   "source": [
    "tokenizer = Tokenizer()\n",
    "# !wget --no-check-certificate \\\n",
    "#     https://storage.googleapis.com/laurencemoroney-blog.appspot.com/sonnets.txt \\\n",
    "#     -O /tmp/sonnets.txt\n",
    "data = open('../../tmp/sonnets.txt').read()\n",
    "\n",
    "corpus = data.lower().split(\"\\n\")\n",
    "\n",
    "\n",
    "tokenizer.fit_on_texts(corpus)\n",
    "total_words = len(tokenizer.word_index) + 1\n",
    "\n",
    "# create input sequences using list of tokens\n",
    "input_sequences = []\n",
    "for line in corpus:\n",
    "\ttoken_list = tokenizer.texts_to_sequences([line])[0]\n",
    "\tfor i in range(1, len(token_list)):\n",
    "\t\tn_gram_sequence = token_list[:i+1]\n",
    "\t\tinput_sequences.append(n_gram_sequence)\n",
    "\n",
    "\n",
    "# pad sequences \n",
    "max_sequence_len = max([len(x) for x in input_sequences])\n",
    "input_sequences = np.array(pad_sequences(input_sequences, maxlen=max_sequence_len, padding='pre'))\n",
    "\n",
    "# create predictors and label\n",
    "predictors, label = input_sequences[:,:-1],input_sequences[:,-1]\n",
    "\n",
    "label = ku.to_categorical(label, num_classes=total_words)"
   ]
  },
  {
   "cell_type": "code",
   "execution_count": 9,
   "metadata": {},
   "outputs": [
    {
     "data": {
      "text/plain": [
       "array([ 0,  0,  0,  0,  0,  0,  0,  0,  0, 64, 23])"
      ]
     },
     "execution_count": 9,
     "metadata": {},
     "output_type": "execute_result"
    }
   ],
   "source": [
    "input_sequences[127]"
   ]
  },
  {
   "cell_type": "code",
   "execution_count": 4,
   "metadata": {
    "colab": {},
    "colab_type": "code",
    "id": "w9vH8Y59ajYL"
   },
   "outputs": [
    {
     "name": "stdout",
     "output_type": "stream",
     "text": [
      "Model: \"sequential\"\n",
      "_________________________________________________________________\n",
      "Layer (type)                 Output Shape              Param #   \n",
      "=================================================================\n",
      "embedding (Embedding)        (None, 10, 100)           321100    \n",
      "_________________________________________________________________\n",
      "bidirectional (Bidirectional (None, 10, 300)           301200    \n",
      "_________________________________________________________________\n",
      "dropout (Dropout)            (None, 10, 300)           0         \n",
      "_________________________________________________________________\n",
      "lstm_1 (LSTM)                (None, 100)               160400    \n",
      "_________________________________________________________________\n",
      "dense (Dense)                (None, 1605)              162105    \n",
      "_________________________________________________________________\n",
      "dense_1 (Dense)              (None, 3211)              5156866   \n",
      "=================================================================\n",
      "Total params: 6,101,671\n",
      "Trainable params: 6,101,671\n",
      "Non-trainable params: 0\n",
      "_________________________________________________________________\n",
      "None\n"
     ]
    }
   ],
   "source": [
    "model = Sequential()\n",
    "model.add(Embedding(total_words, 100, input_length=max_sequence_len-1))\n",
    "model.add(Bidirectional(LSTM(150, return_sequences = True)))\n",
    "model.add(Dropout(0.2))\n",
    "model.add(LSTM(100))\n",
    "model.add(Dense(total_words/2, activation='relu', kernel_regularizer=regularizers.l2(0.01)))\n",
    "model.add(Dense(total_words, activation='softmax'))\n",
    "model.compile(loss='categorical_crossentropy', optimizer='adam', metrics=['accuracy'])\n",
    "print(model.summary())\n"
   ]
  },
  {
   "cell_type": "code",
   "execution_count": 5,
   "metadata": {
    "colab": {},
    "colab_type": "code",
    "id": "AIg2f1HBxqof"
   },
   "outputs": [
    {
     "name": "stdout",
     "output_type": "stream",
     "text": [
      "WARNING:tensorflow:From C:\\Temp\\Anaconda3\\lib\\site-packages\\tensorflow\\python\\ops\\math_grad.py:1250: add_dispatch_support.<locals>.wrapper (from tensorflow.python.ops.array_ops) is deprecated and will be removed in a future version.\n",
      "Instructions for updating:\n",
      "Use tf.where in 2.0, which has the same broadcast rule as np.where\n",
      "Train on 15462 samples\n",
      "Epoch 1/100\n",
      "15462/15462 [==============================] - 30s 2ms/sample - loss: 6.9130 - accuracy: 0.0204\n",
      "Epoch 2/100\n",
      "15462/15462 [==============================] - 33s 2ms/sample - loss: 6.5003 - accuracy: 0.0217\n",
      "Epoch 3/100\n",
      "15462/15462 [==============================] - 38s 2ms/sample - loss: 6.3943 - accuracy: 0.0262\n",
      "Epoch 4/100\n",
      "15462/15462 [==============================] - 38s 2ms/sample - loss: 6.2652 - accuracy: 0.0316\n",
      "Epoch 5/100\n",
      "15462/15462 [==============================] - 39s 3ms/sample - loss: 6.1707 - accuracy: 0.0378\n",
      "Epoch 6/100\n",
      "15462/15462 [==============================] - 38s 2ms/sample - loss: 6.0902 - accuracy: 0.0384\n",
      "Epoch 7/100\n",
      "15462/15462 [==============================] - 38s 2ms/sample - loss: 6.0057 - accuracy: 0.0400\n",
      "Epoch 8/100\n",
      "15462/15462 [==============================] - 37s 2ms/sample - loss: 5.9087 - accuracy: 0.0451\n",
      "Epoch 9/100\n",
      "15462/15462 [==============================] - 37s 2ms/sample - loss: 5.7963 - accuracy: 0.0536\n",
      "Epoch 10/100\n",
      "15462/15462 [==============================] - 38s 2ms/sample - loss: 5.6786 - accuracy: 0.0593\n",
      "Epoch 11/100\n",
      "15462/15462 [==============================] - 37s 2ms/sample - loss: 5.5588 - accuracy: 0.0670\n",
      "Epoch 12/100\n",
      "15462/15462 [==============================] - 37s 2ms/sample - loss: 5.4421 - accuracy: 0.0732\n",
      "Epoch 13/100\n",
      "15462/15462 [==============================] - 37s 2ms/sample - loss: 5.3302 - accuracy: 0.0790\n",
      "Epoch 14/100\n",
      "15462/15462 [==============================] - 38s 2ms/sample - loss: 5.2160 - accuracy: 0.0868\n",
      "Epoch 15/100\n",
      "15462/15462 [==============================] - 38s 2ms/sample - loss: 5.1085 - accuracy: 0.0957\n",
      "Epoch 16/100\n",
      "15462/15462 [==============================] - 43s 3ms/sample - loss: 4.9997 - accuracy: 0.1019\n",
      "Epoch 17/100\n",
      "15462/15462 [==============================] - 39s 3ms/sample - loss: 4.8871 - accuracy: 0.1091\n",
      "Epoch 18/100\n",
      "15462/15462 [==============================] - 41s 3ms/sample - loss: 4.7845 - accuracy: 0.1184\n",
      "Epoch 19/100\n",
      "15462/15462 [==============================] - 39s 3ms/sample - loss: 4.6758 - accuracy: 0.1266\n",
      "Epoch 20/100\n",
      "15462/15462 [==============================] - 38s 2ms/sample - loss: 4.5658 - accuracy: 0.1383\n",
      "Epoch 21/100\n",
      "15462/15462 [==============================] - 38s 2ms/sample - loss: 4.4554 - accuracy: 0.1492\n",
      "Epoch 22/100\n",
      "15462/15462 [==============================] - 43s 3ms/sample - loss: 4.3462 - accuracy: 0.1620\n",
      "Epoch 23/100\n",
      "15462/15462 [==============================] - 39s 2ms/sample - loss: 4.2413 - accuracy: 0.1744\n",
      "Epoch 24/100\n",
      "15462/15462 [==============================] - 39s 3ms/sample - loss: 4.1310 - accuracy: 0.1872s\n",
      "Epoch 25/100\n",
      "15462/15462 [==============================] - 39s 2ms/sample - loss: 4.0251 - accuracy: 0.2008\n",
      "Epoch 26/100\n",
      "15462/15462 [==============================] - 39s 3ms/sample - loss: 3.9299 - accuracy: 0.2154\n",
      "Epoch 27/100\n",
      "15462/15462 [==============================] - 38s 2ms/sample - loss: 3.8173 - accuracy: 0.2341\n",
      "Epoch 28/100\n",
      "15462/15462 [==============================] - 40s 3ms/sample - loss: 3.7259 - accuracy: 0.2484\n",
      "Epoch 29/100\n",
      "15462/15462 [==============================] - 42s 3ms/sample - loss: 3.6248 - accuracy: 0.2720\n",
      "Epoch 30/100\n",
      "15462/15462 [==============================] - 42s 3ms/sample - loss: 3.5255 - accuracy: 0.2901\n",
      "Epoch 31/100\n",
      "15462/15462 [==============================] - 39s 3ms/sample - loss: 3.4268 - accuracy: 0.3138\n",
      "Epoch 32/100\n",
      "15462/15462 [==============================] - 40s 3ms/sample - loss: 3.3420 - accuracy: 0.3321\n",
      "Epoch 33/100\n",
      "15462/15462 [==============================] - 42s 3ms/sample - loss: 3.2566 - accuracy: 0.3552\n",
      "Epoch 34/100\n",
      "15462/15462 [==============================] - 41s 3ms/sample - loss: 3.1732 - accuracy: 0.3716\n",
      "Epoch 35/100\n",
      "15462/15462 [==============================] - 42s 3ms/sample - loss: 3.0921 - accuracy: 0.3895\n",
      "Epoch 36/100\n",
      "15462/15462 [==============================] - 45s 3ms/sample - loss: 3.0117 - accuracy: 0.4084\n",
      "Epoch 37/100\n",
      "15462/15462 [==============================] - 43s 3ms/sample - loss: 2.9324 - accuracy: 0.4247\n",
      "Epoch 38/100\n",
      "15462/15462 [==============================] - 41s 3ms/sample - loss: 2.8573 - accuracy: 0.4452\n",
      "Epoch 39/100\n",
      "15462/15462 [==============================] - 42s 3ms/sample - loss: 2.8046 - accuracy: 0.4510\n",
      "Epoch 40/100\n",
      "15462/15462 [==============================] - 40s 3ms/sample - loss: 2.7446 - accuracy: 0.4681\n",
      "Epoch 41/100\n",
      "15462/15462 [==============================] - 39s 3ms/sample - loss: 2.6728 - accuracy: 0.4866\n",
      "Epoch 42/100\n",
      "15462/15462 [==============================] - 40s 3ms/sample - loss: 2.5987 - accuracy: 0.4993\n",
      "Epoch 43/100\n",
      "15462/15462 [==============================] - 40s 3ms/sample - loss: 2.5401 - accuracy: 0.5180\n",
      "Epoch 44/100\n",
      "15462/15462 [==============================] - 40s 3ms/sample - loss: 2.4849 - accuracy: 0.5301\n",
      "Epoch 45/100\n",
      "15462/15462 [==============================] - 39s 3ms/sample - loss: 2.4335 - accuracy: 0.5407\n",
      "Epoch 46/100\n",
      "15462/15462 [==============================] - 39s 3ms/sample - loss: 2.3785 - accuracy: 0.5527\n",
      "Epoch 47/100\n",
      "15462/15462 [==============================] - 40s 3ms/sample - loss: 2.3266 - accuracy: 0.5638\n",
      "Epoch 48/100\n",
      "15462/15462 [==============================] - 40s 3ms/sample - loss: 2.2713 - accuracy: 0.5759\n",
      "Epoch 49/100\n",
      "15462/15462 [==============================] - 40s 3ms/sample - loss: 2.2181 - accuracy: 0.5899\n",
      "Epoch 50/100\n",
      "15462/15462 [==============================] - 39s 3ms/sample - loss: 2.1803 - accuracy: 0.5973\n",
      "Epoch 51/100\n",
      "15462/15462 [==============================] - 39s 3ms/sample - loss: 2.1338 - accuracy: 0.6118\n",
      "Epoch 52/100\n",
      "15462/15462 [==============================] - 39s 3ms/sample - loss: 2.0991 - accuracy: 0.6160\n",
      "Epoch 53/100\n",
      "15462/15462 [==============================] - 39s 3ms/sample - loss: 2.0784 - accuracy: 0.6200\n",
      "Epoch 54/100\n",
      "15462/15462 [==============================] - 37s 2ms/sample - loss: 2.0242 - accuracy: 0.6302\n",
      "Epoch 55/100\n",
      "15462/15462 [==============================] - 37s 2ms/sample - loss: 1.9733 - accuracy: 0.6429\n",
      "Epoch 56/100\n",
      "15462/15462 [==============================] - 37s 2ms/sample - loss: 1.9349 - accuracy: 0.6495\n",
      "Epoch 57/100\n",
      "15462/15462 [==============================] - 37s 2ms/sample - loss: 1.9085 - accuracy: 0.6541\n",
      "Epoch 58/100\n",
      "15462/15462 [==============================] - 39s 3ms/sample - loss: 1.8643 - accuracy: 0.6639\n",
      "Epoch 59/100\n",
      "15462/15462 [==============================] - 41s 3ms/sample - loss: 1.8488 - accuracy: 0.6720\n",
      "Epoch 60/100\n",
      "15462/15462 [==============================] - 40s 3ms/sample - loss: 1.8046 - accuracy: 0.6785\n",
      "Epoch 61/100\n",
      "15462/15462 [==============================] - 40s 3ms/sample - loss: 1.7780 - accuracy: 0.6854\n",
      "Epoch 62/100\n",
      "15462/15462 [==============================] - 40s 3ms/sample - loss: 1.7399 - accuracy: 0.6912\n",
      "Epoch 63/100\n",
      "15462/15462 [==============================] - 41s 3ms/sample - loss: 1.7269 - accuracy: 0.6951\n",
      "Epoch 64/100\n",
      "15462/15462 [==============================] - 40s 3ms/sample - loss: 1.6877 - accuracy: 0.7046\n",
      "Epoch 65/100\n",
      "15462/15462 [==============================] - 41s 3ms/sample - loss: 1.6643 - accuracy: 0.7086\n",
      "Epoch 66/100\n",
      "15462/15462 [==============================] - 40s 3ms/sample - loss: 1.6345 - accuracy: 0.7125\n",
      "Epoch 67/100\n",
      "15462/15462 [==============================] - 38s 2ms/sample - loss: 1.6120 - accuracy: 0.7178\n",
      "Epoch 68/100\n",
      "15462/15462 [==============================] - 38s 2ms/sample - loss: 1.6071 - accuracy: 0.7169\n",
      "Epoch 69/100\n",
      "15462/15462 [==============================] - 37s 2ms/sample - loss: 1.5574 - accuracy: 0.7300\n",
      "Epoch 70/100\n",
      "15462/15462 [==============================] - 38s 2ms/sample - loss: 1.5418 - accuracy: 0.7300\n",
      "Epoch 71/100\n",
      "15462/15462 [==============================] - 37s 2ms/sample - loss: 1.5224 - accuracy: 0.7372\n",
      "Epoch 72/100\n",
      "15462/15462 [==============================] - 38s 2ms/sample - loss: 1.4970 - accuracy: 0.7420\n",
      "Epoch 73/100\n"
     ]
    },
    {
     "name": "stdout",
     "output_type": "stream",
     "text": [
      "15462/15462 [==============================] - 38s 2ms/sample - loss: 1.4795 - accuracy: 0.7456\n",
      "Epoch 74/100\n",
      "15462/15462 [==============================] - 38s 2ms/sample - loss: 1.4687 - accuracy: 0.7438\n",
      "Epoch 75/100\n",
      "15462/15462 [==============================] - 39s 3ms/sample - loss: 1.4404 - accuracy: 0.7501\n",
      "Epoch 76/100\n",
      "15462/15462 [==============================] - 38s 2ms/sample - loss: 1.4321 - accuracy: 0.7523\n",
      "Epoch 77/100\n",
      "15462/15462 [==============================] - 38s 2ms/sample - loss: 1.4063 - accuracy: 0.7559\n",
      "Epoch 78/100\n",
      "15462/15462 [==============================] - 39s 3ms/sample - loss: 1.3840 - accuracy: 0.7628\n",
      "Epoch 79/100\n",
      "15462/15462 [==============================] - 39s 3ms/sample - loss: 1.3667 - accuracy: 0.7641\n",
      "Epoch 80/100\n",
      "15462/15462 [==============================] - 37s 2ms/sample - loss: 1.3541 - accuracy: 0.7684\n",
      "Epoch 81/100\n",
      "15462/15462 [==============================] - 37s 2ms/sample - loss: 1.3498 - accuracy: 0.7667\n",
      "Epoch 82/100\n",
      "15462/15462 [==============================] - 37s 2ms/sample - loss: 1.3396 - accuracy: 0.7661\n",
      "Epoch 83/100\n",
      "15462/15462 [==============================] - 37s 2ms/sample - loss: 1.3180 - accuracy: 0.7731\n",
      "Epoch 84/100\n",
      "15462/15462 [==============================] - 37s 2ms/sample - loss: 1.3066 - accuracy: 0.7717\n",
      "Epoch 85/100\n",
      "15462/15462 [==============================] - 37s 2ms/sample - loss: 1.2931 - accuracy: 0.7775\n",
      "Epoch 86/100\n",
      "15462/15462 [==============================] - 37s 2ms/sample - loss: 1.2937 - accuracy: 0.7756\n",
      "Epoch 87/100\n",
      "15462/15462 [==============================] - 37s 2ms/sample - loss: 1.2698 - accuracy: 0.7802\n",
      "Epoch 88/100\n",
      "15462/15462 [==============================] - 37s 2ms/sample - loss: 1.2408 - accuracy: 0.7852\n",
      "Epoch 89/100\n",
      "15462/15462 [==============================] - 37s 2ms/sample - loss: 1.2410 - accuracy: 0.7844\n",
      "Epoch 90/100\n",
      "15462/15462 [==============================] - 38s 2ms/sample - loss: 1.2168 - accuracy: 0.7914\n",
      "Epoch 91/100\n",
      "15462/15462 [==============================] - 38s 2ms/sample - loss: 1.2074 - accuracy: 0.7877\n",
      "Epoch 92/100\n",
      "15462/15462 [==============================] - 40s 3ms/sample - loss: 1.2016 - accuracy: 0.7914\n",
      "Epoch 93/100\n",
      "15462/15462 [==============================] - 38s 2ms/sample - loss: 1.1804 - accuracy: 0.7985\n",
      "Epoch 94/100\n",
      "15462/15462 [==============================] - 38s 2ms/sample - loss: 1.1743 - accuracy: 0.7958\n",
      "Epoch 95/100\n",
      "15462/15462 [==============================] - 37s 2ms/sample - loss: 1.1770 - accuracy: 0.7943\n",
      "Epoch 96/100\n",
      "15462/15462 [==============================] - 37s 2ms/sample - loss: 1.1642 - accuracy: 0.7980\n",
      "Epoch 97/100\n",
      "15462/15462 [==============================] - 37s 2ms/sample - loss: 1.1546 - accuracy: 0.7972\n",
      "Epoch 98/100\n",
      "15462/15462 [==============================] - 39s 2ms/sample - loss: 1.1528 - accuracy: 0.7986\n",
      "Epoch 99/100\n",
      "15462/15462 [==============================] - 39s 3ms/sample - loss: 1.1298 - accuracy: 0.8038\n",
      "Epoch 100/100\n",
      "15462/15462 [==============================] - 39s 3ms/sample - loss: 1.1110 - accuracy: 0.8069\n"
     ]
    }
   ],
   "source": [
    " history = model.fit(predictors, label, epochs=100, verbose=1)"
   ]
  },
  {
   "cell_type": "code",
   "execution_count": 6,
   "metadata": {
    "colab": {},
    "colab_type": "code",
    "id": "1fXTEO3GJ282"
   },
   "outputs": [
    {
     "data": {
      "image/png": "[encoded data removed]",
      "text/plain": [
       "<Figure size 432x288 with 1 Axes>"
      ]
     },
     "metadata": {
      "needs_background": "light"
     },
     "output_type": "display_data"
    },
    {
     "data": {
      "image/png": "[encoded data removed]",
      "text/plain": [
       "<Figure size 432x288 with 1 Axes>"
      ]
     },
     "metadata": {
      "needs_background": "light"
     },
     "output_type": "display_data"
    }
   ],
   "source": [
    "import matplotlib.pyplot as plt\n",
    "acc = history.history['accuracy']\n",
    "loss = history.history['loss']\n",
    "\n",
    "epochs = range(len(acc))\n",
    "\n",
    "plt.plot(epochs, acc, 'b', label='Training accuracy')\n",
    "plt.title('Training accuracy')\n",
    "\n",
    "plt.figure()\n",
    "\n",
    "plt.plot(epochs, loss, 'b', label='Training Loss')\n",
    "plt.title('Training loss')\n",
    "plt.legend()\n",
    "\n",
    "plt.show()"
   ]
  },
  {
   "cell_type": "code",
   "execution_count": 0,
   "metadata": {
    "colab": {},
    "colab_type": "code",
    "id": "6Vc6PHgxa6Hm"
   },
   "outputs": [],
   "source": [
    "seed_text = \"Help me Obi Wan Kenobi, you're my only hope\"\n",
    "next_words = 100\n",
    "  \n",
    "for _ in range(next_words):\n",
    "\ttoken_list = tokenizer.texts_to_sequences([seed_text])[0]\n",
    "\ttoken_list = pad_sequences([token_list], maxlen=max_sequence_len-1, padding='pre')\n",
    "\tpredicted = model.predict_classes(token_list, verbose=0)\n",
    "\toutput_word = \"\"\n",
    "\tfor word, index in tokenizer.word_index.items():\n",
    "\t\tif index == predicted:\n",
    "\t\t\toutput_word = word\n",
    "\t\t\tbreak\n",
    "\tseed_text += \" \" + output_word\n",
    "print(seed_text)"
   ]
  }
 ],
 "metadata": {
  "accelerator": "GPU",
  "colab": {
   "name": "NLP_Week4_Exercise_Shakespeare_Answer.ipynb",
   "provenance": [],
   "toc_visible": true,
   "version": "0.3.2"
  },
  "kernelspec": {
   "display_name": "Python 3",
   "language": "python",
   "name": "python3"
  },
  "language_info": {
   "codemirror_mode": {
    "name": "ipython",
    "version": 3
   },
   "file_extension": ".py",
   "mimetype": "text/x-python",
   "name": "python",
   "nbconvert_exporter": "python",
   "pygments_lexer": "ipython3",
   "version": "3.7.6"
  }
 },
 "nbformat": 4,
 "nbformat_minor": 1
}
