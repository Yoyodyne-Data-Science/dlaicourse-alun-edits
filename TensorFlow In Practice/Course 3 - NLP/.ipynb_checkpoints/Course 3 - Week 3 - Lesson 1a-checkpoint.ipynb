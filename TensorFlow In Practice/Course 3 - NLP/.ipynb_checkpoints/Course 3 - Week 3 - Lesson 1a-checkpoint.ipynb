{
 "cells": [
  {
   "cell_type": "code",
   "execution_count": 1,
   "metadata": {
    "colab": {},
    "colab_type": "code",
    "id": "zX4Kg8DUTKWO"
   },
   "outputs": [],
   "source": [
    "#@title Licensed under the Apache License, Version 2.0 (the \"License\");\n",
    "# you may not use this file except in compliance with the License.\n",
    "# You may obtain a copy of the License at\n",
    "#\n",
    "# https://www.apache.org/licenses/LICENSE-2.0\n",
    "#\n",
    "# Unless required by applicable law or agreed to in writing, software\n",
    "# distributed under the License is distributed on an \"AS IS\" BASIS,\n",
    "# WITHOUT WARRANTIES OR CONDITIONS OF ANY KIND, either express or implied.\n",
    "# See the License for the specific language governing permissions and\n",
    "# limitations under the License."
   ]
  },
  {
   "cell_type": "markdown",
   "metadata": {
    "colab_type": "text",
    "id": "rFiCyWQ-NC5D"
   },
   "source": [
    "# Single Layer LSTM"
   ]
  },
  {
   "cell_type": "code",
   "execution_count": 1,
   "metadata": {
    "colab": {},
    "colab_type": "code",
    "id": "Y20Lud2ZMBhW"
   },
   "outputs": [
    {
     "name": "stderr",
     "output_type": "stream",
     "text": [
      "C:\\Temp\\Anaconda3\\lib\\site-packages\\tensorflow\\python\\framework\\dtypes.py:516: FutureWarning: Passing (type, 1) or '1type' as a synonym of type is deprecated; in a future version of numpy, it will be understood as (type, (1,)) / '(1,)type'.\n",
      "  _np_qint8 = np.dtype([(\"qint8\", np.int8, 1)])\n",
      "C:\\Temp\\Anaconda3\\lib\\site-packages\\tensorflow\\python\\framework\\dtypes.py:517: FutureWarning: Passing (type, 1) or '1type' as a synonym of type is deprecated; in a future version of numpy, it will be understood as (type, (1,)) / '(1,)type'.\n",
      "  _np_quint8 = np.dtype([(\"quint8\", np.uint8, 1)])\n",
      "C:\\Temp\\Anaconda3\\lib\\site-packages\\tensorflow\\python\\framework\\dtypes.py:518: FutureWarning: Passing (type, 1) or '1type' as a synonym of type is deprecated; in a future version of numpy, it will be understood as (type, (1,)) / '(1,)type'.\n",
      "  _np_qint16 = np.dtype([(\"qint16\", np.int16, 1)])\n",
      "C:\\Temp\\Anaconda3\\lib\\site-packages\\tensorflow\\python\\framework\\dtypes.py:519: FutureWarning: Passing (type, 1) or '1type' as a synonym of type is deprecated; in a future version of numpy, it will be understood as (type, (1,)) / '(1,)type'.\n",
      "  _np_quint16 = np.dtype([(\"quint16\", np.uint16, 1)])\n",
      "C:\\Temp\\Anaconda3\\lib\\site-packages\\tensorflow\\python\\framework\\dtypes.py:520: FutureWarning: Passing (type, 1) or '1type' as a synonym of type is deprecated; in a future version of numpy, it will be understood as (type, (1,)) / '(1,)type'.\n",
      "  _np_qint32 = np.dtype([(\"qint32\", np.int32, 1)])\n",
      "C:\\Temp\\Anaconda3\\lib\\site-packages\\tensorflow\\python\\framework\\dtypes.py:525: FutureWarning: Passing (type, 1) or '1type' as a synonym of type is deprecated; in a future version of numpy, it will be understood as (type, (1,)) / '(1,)type'.\n",
      "  np_resource = np.dtype([(\"resource\", np.ubyte, 1)])\n",
      "C:\\Temp\\Anaconda3\\lib\\site-packages\\tensorboard\\compat\\tensorflow_stub\\dtypes.py:541: FutureWarning: Passing (type, 1) or '1type' as a synonym of type is deprecated; in a future version of numpy, it will be understood as (type, (1,)) / '(1,)type'.\n",
      "  _np_qint8 = np.dtype([(\"qint8\", np.int8, 1)])\n",
      "C:\\Temp\\Anaconda3\\lib\\site-packages\\tensorboard\\compat\\tensorflow_stub\\dtypes.py:542: FutureWarning: Passing (type, 1) or '1type' as a synonym of type is deprecated; in a future version of numpy, it will be understood as (type, (1,)) / '(1,)type'.\n",
      "  _np_quint8 = np.dtype([(\"quint8\", np.uint8, 1)])\n",
      "C:\\Temp\\Anaconda3\\lib\\site-packages\\tensorboard\\compat\\tensorflow_stub\\dtypes.py:543: FutureWarning: Passing (type, 1) or '1type' as a synonym of type is deprecated; in a future version of numpy, it will be understood as (type, (1,)) / '(1,)type'.\n",
      "  _np_qint16 = np.dtype([(\"qint16\", np.int16, 1)])\n",
      "C:\\Temp\\Anaconda3\\lib\\site-packages\\tensorboard\\compat\\tensorflow_stub\\dtypes.py:544: FutureWarning: Passing (type, 1) or '1type' as a synonym of type is deprecated; in a future version of numpy, it will be understood as (type, (1,)) / '(1,)type'.\n",
      "  _np_quint16 = np.dtype([(\"quint16\", np.uint16, 1)])\n",
      "C:\\Temp\\Anaconda3\\lib\\site-packages\\tensorboard\\compat\\tensorflow_stub\\dtypes.py:545: FutureWarning: Passing (type, 1) or '1type' as a synonym of type is deprecated; in a future version of numpy, it will be understood as (type, (1,)) / '(1,)type'.\n",
      "  _np_qint32 = np.dtype([(\"qint32\", np.int32, 1)])\n",
      "C:\\Temp\\Anaconda3\\lib\\site-packages\\tensorboard\\compat\\tensorflow_stub\\dtypes.py:550: FutureWarning: Passing (type, 1) or '1type' as a synonym of type is deprecated; in a future version of numpy, it will be understood as (type, (1,)) / '(1,)type'.\n",
      "  np_resource = np.dtype([(\"resource\", np.ubyte, 1)])\n"
     ]
    },
    {
     "name": "stdout",
     "output_type": "stream",
     "text": [
      "2.0.0-beta1\n"
     ]
    }
   ],
   "source": [
    "#from __future__ import absolute_import, division, print_function, unicode_literals\n",
    "\n",
    "\n",
    "import tensorflow_datasets as tfds\n",
    "import tensorflow as tf\n",
    "print(tf.__version__)"
   ]
  },
  {
   "cell_type": "code",
   "execution_count": 2,
   "metadata": {
    "colab": {},
    "colab_type": "code",
    "id": "uAU8g7C0MPZE"
   },
   "outputs": [],
   "source": [
    "# import tensorflow_datasets as tfds\n",
    "# import tensorflow as tf\n",
    "# print(tf.__version__)"
   ]
  },
  {
   "cell_type": "code",
   "execution_count": 4,
   "metadata": {
    "colab": {},
    "colab_type": "code",
    "id": "AW-4Vo4TMUHb"
   },
   "outputs": [],
   "source": [
    "# Get the data\n",
    "# dataset, info = tfds.load('imdb_reviews/subwords8k', with_info=True, as_supervised=True)\n",
    "# train_dataset, test_dataset = dataset['train'], dataset['test']\n",
    "\n",
    "import numpy as np\n",
    "import os\n",
    "\n",
    "# The value 1 indicates a positive review and zero a negative one.\n",
    "\n",
    "data_dir='./../../tmp/imdb_reviews'\n",
    "\n",
    "training_sentences = []\n",
    "training_labels = []\n",
    "\n",
    "testing_sentences = []\n",
    "testing_labels = []\n",
    "\n",
    "for file in os.listdir(data_dir+'/train/neg'):\n",
    "    read_obj = open(data_dir+'/train/neg/'+file, 'r', encoding=\"utf8\")\n",
    "    training_sentences.append((read_obj.read()))\n",
    "    training_labels.append(0)\n",
    "    \n",
    "for file in os.listdir(data_dir+'/train/pos'):\n",
    "    read_obj = open(data_dir+'/train/pos/'+file, 'r', encoding=\"utf8\")\n",
    "    training_sentences.append((read_obj.read()))\n",
    "    training_labels.append(1)\n",
    "    \n",
    "for file in os.listdir(data_dir+'/test/neg'):\n",
    "    read_obj = open(data_dir+'/test/neg/'+file, 'r', encoding=\"utf8\")\n",
    "    testing_sentences.append((read_obj.read()))\n",
    "    testing_labels.append(0)\n",
    "    \n",
    "for file in os.listdir(data_dir+'/test/pos'):\n",
    "    read_obj = open(data_dir+'/test/pos/'+file, 'r', encoding=\"utf8\")\n",
    "    testing_sentences.append((read_obj.read()))\n",
    "    testing_labels.append(1)\n",
    "    \n",
    "testing_sentences = np.array(testing_sentences)\n",
    "training_sentences = np.array(training_sentences)\n",
    "\n",
    "training_labels_final = np.array(training_labels)\n",
    "testing_labels_final = np.array(testing_labels)"
   ]
  },
  {
   "cell_type": "code",
   "execution_count": 5,
   "metadata": {},
   "outputs": [
    {
     "data": {
      "text/plain": [
       "numpy.ndarray"
      ]
     },
     "execution_count": 5,
     "metadata": {},
     "output_type": "execute_result"
    }
   ],
   "source": [
    "type(training_sentences)"
   ]
  },
  {
   "cell_type": "code",
   "execution_count": 6,
   "metadata": {
    "colab": {},
    "colab_type": "code",
    "id": "AW-4Vo4TMUHb"
   },
   "outputs": [],
   "source": [
    "# first word tokenize, then sub words later\n",
    "tokenizer = tfds.features.text.Tokenizer()\n",
    "\n",
    "vocabulary_set = set()\n",
    "for text_tensor in training_sentences:\n",
    "    some_tokens = tokenizer.tokenize(text_tensor)\n",
    "    vocabulary_set.update(some_tokens)\n",
    "    \n",
    "vocab_size = len(vocabulary_set)\n",
    "\n",
    "encoder = tfds.features.text.SubwordTextEncoder.build_from_corpus(\n",
    "    corpus_generator= [x for x in training_sentences], target_vocab_size=2**13)\n",
    "\n",
    "encoded_training_sentences = [np.array(encoder.encode(sntnc)) for sntnc in training_sentences]\n",
    "encoded_testing_sentences = [np.array(encoder.encode(sntnc)) for sntnc in testing_sentences]\n",
    "\n",
    "# make the train and test data how tf datasets has it\n",
    "\n",
    "# train_data = []\n",
    "# for idx, sntnc in enumerate(training_sentences):\n",
    "#     train_data.append((encoder.encode(sntnc),training_labels_final[idx]))\n",
    "    \n",
    "# test_data = []\n",
    "# for idx, sntnc in enumerate(testing_sentences):\n",
    "#     test_data.append((np.array(encoder.encode(sntnc)),np.array(testing_labels_final[idx])))\n",
    "    \n",
    "# def train_data_gen():\n",
    "#     np.random.shuffle(train_data)\n",
    "#     for x in train_data:\n",
    "#         yield (x[0], x[1])\n",
    "        \n",
    "# def test_data_gen():\n",
    "#     np.random.shuffle(test_data)\n",
    "#     for x in test_data:\n",
    "#         yield (x[0], x[1])\n",
    "        \n",
    "# train_dataset_tensor = tf.data.Dataset.from_generator(train_data_gen, (tf.int64, tf.int64))\n",
    "# test_dataset_tensor = tf.data.Dataset.from_generator(test_data_gen, (tf.int64, tf.int64))\n",
    "\n"
   ]
  },
  {
   "cell_type": "code",
   "execution_count": 11,
   "metadata": {},
   "outputs": [
    {
     "data": {
      "text/plain": [
       "array([ 156,   14,    9,    4,  624, 1142, 3951, 7961,   48,   45,    6,\n",
       "          1, 2122,  651,  799,    8,    6, 3348, 3318, 1293, 7116,  370,\n",
       "         28, 2802, 1029,  592, 8035,   58,  144,   12,  258, 4604,   15,\n",
       "          9,    4,   67,  309, 5082,   23,  199,    7, 5914,    1,  335,\n",
       "       3322,   24,   10,   16,   10,   17,  156,   37,   83,  186,  978,\n",
       "          7,   14, 5074,   22,  178,   41, 5337, 1492,  339,  728,  280,\n",
       "          6, 1291, 1320,    2, 6640,  767, 8050,    2,  857,   75,    5,\n",
       "       3430, 1225,  558,    2,  144,   27,  308,    9,  176,    7,   35,\n",
       "       4351, 1338,   97, 7490,  127,   43,  527, 6941,   40,   22,   14,\n",
       "         66,    3,   19,   32, 3351,   11,  281,   51, 7314,    8,  888,\n",
       "       1634,    5, 6640,  767,   47, 1754,  957,    3,  183,   57,    4,\n",
       "        214,   74, 1527,    8,    7, 5750, 7961,   26,   13, 1584,  800,\n",
       "        115,   37,  537,    4, 1629,   22, 1082, 6211, 8044,   24,   10,\n",
       "         16,   10,   17,   19,  118,  211,    6,    4,  975,  215,  267,\n",
       "         94,    4, 6563, 7961,   48,    1, 4718, 7961,   57,   67, 1462,\n",
       "       5172,    8,   52,   13,    6,    4, 3367,   66,    3,  444,  917,\n",
       "         18,    4, 1250, 5953,   50,    6,    1,  575, 7968,    8, 5944,\n",
       "          3, 2478,  554,   46, 3049,    9,   41, 2578,   21,    7,    4,\n",
       "         27,    9,  438, 4029, 8029,    3, 1291, 2585,  968, 2234, 7968,\n",
       "          8,  786, 4266,  488,    6, 2925,   34,   74, 1301, 1112, 3364,\n",
       "        107,    6,    1,  603,    3,  134,  857,   75,   96, 3608, 1192,\n",
       "        546, 1041,  240,   42, 2132,   36,   14,   65,   24,   10,   16,\n",
       "         10,   17,  147,  631, 3370, 7968,  596,  552, 2959, 8000, 3134,\n",
       "       7230, 1450, 1172, 1111, 2657, 1550, 2406, 4581, 1782,  596, 7994,\n",
       "       7999, 7274,   38, 8003, 3151, 8008, 2224, 2383, 2738, 2383, 1494,\n",
       "       8003, 3151, 8008, 8006,  345,   12,   70,  202,   13, 6373,   38,\n",
       "       7994, 8026,  619, 7961,  701,  504,  428,   54,   18,    4,  193,\n",
       "       1779,   27,   89,  229,   24,   10,   16,   10,   17,  373,  800,\n",
       "        549,  113,    5,  240,   14,  312,    6,  397,   18,  696,    5,\n",
       "       2465,  423,  330, 8029,    3,   19,  107, 3296, 1045,   36,   18,\n",
       "          1, 2103,  197, 1562,    6, 6640,  767, 8050, 7968,    8,  174,\n",
       "        250,    3,  518,    1, 3094,   47,  397,    1, 7868,  311,  344,\n",
       "          6,    1,   27,    9,  116,  824,    3, 6468, 5076, 7961,  756,\n",
       "       3387, 1218,   31,  479,   56,   63, 3365,  125, 3843,    8,    7,\n",
       "        340, 3041,    3,   19, 1575,  579,  177,   67,  153,    5, 2555,\n",
       "          1, 3843,    8, 5313, 2558, 4419, 1933,    3, 2518,   45, 3041,\n",
       "         38, 3603, 3942,  817,  231, 2001, 8037,   54,    9, 1740,   74,\n",
       "          6,   51,   11,    1, 2547,    3, 1284, 3916, 2499,   43, 6468,\n",
       "       5076, 7961,  756, 3387,  628,   24,   10,   16,   10,   17, 5519,\n",
       "       1073,   34,    1, 7157, 7961, 7263,    6,    1, 2428,   56,  460,\n",
       "       4568,   49,  229, 7523, 6640,  767,   47,    5,  857,   75,   29,\n",
       "         25,    1, 4565,   11,    1, 3235,   47, 6633,    6,    4, 6812,\n",
       "        513,  871,  334,   28,  305,  687, 1059, 3387,  158,  147,    1,\n",
       "        627,  211,   53,   29, 6081,   34,   23, 3430, 1225, 1563,   11,\n",
       "       1297, 1609,  904,    5,  144,  197,   11,    1, 3235,    8,   22,\n",
       "       3430, 1225, 1563,   11,    1, 4945, 1758,    6,   79, 1277,    3,\n",
       "         12,  258,  176, 1041,   46, 2124,  229,   24,   10,   16,   10,\n",
       "         17,  156,   37, 4886,    7, 1369, 7693,    1,  322,  144,    1,\n",
       "       5026,    9,  149,  309,   22, 1713,    5, 6960, 4031, 8044,    3,\n",
       "        298,   83,   86,   51,    1, 6929, 3251,  192,    1, 7698, 7961,\n",
       "          6, 5960,    8,   33, 7112,   20,   75,   53,   29, 4279, 7997,\n",
       "          3, 5970,  103,  176,  448,    4,  624, 1142,   27,   22,   51,\n",
       "        187, 4364, 2278, 1054,    8, 1908, 8029,   88,  392,   84,   68,\n",
       "       2152,   25,   14, 3903,    5,  615, 5394,   27,   26,    4, 7422,\n",
       "         49,  376, 7343,    7, 1621, 5075,  263,   48,   79, 1042,   24,\n",
       "         10,   16,   10,   17,  893, 1218, 1291, 2585,  968, 2234,  251,\n",
       "       6640,  767,   47, 1754,  957,    2,  156, 1674, 2335, 2099,   23,\n",
       "          4, 7645, 3581,    6,  155,  171,  148,   79,  118, 2346,    9,\n",
       "        237,    3,  249, 2560,    8,    6,  178, 3929,  376,    2,   37,\n",
       "         31, 1315, 4473, 4889, 2512,  440, 1692,  155,  951,    5, 5703,\n",
       "          3, 3248,  176, 1578,  364,   23,   37,   20,   37, 2626, 7961,\n",
       "          1,  521,   11,  155,  118,  225, 1730,  686,  124,    3,   12,\n",
       "        129,   14,  312,    6,   27,  180,   33,   86,    1,  606, 1104,\n",
       "         20,   15, 4369, 3323, 7961,    1, 7050, 7961,    6,   51, 6941,\n",
       "         40,   22,    1,   65,    2,    1,  263,    5,    1,  651,  663,\n",
       "       3019, 8033, 7975])"
      ]
     },
     "execution_count": 11,
     "metadata": {},
     "output_type": "execute_result"
    }
   ],
   "source": [
    "encoded_training_sentences[28]"
   ]
  },
  {
   "cell_type": "code",
   "execution_count": 23,
   "metadata": {},
   "outputs": [],
   "source": [
    "encoded_training_sentences_padded = tf.keras.preprocessing.sequence.pad_sequences(encoded_training_sentences, padding = 'post')\n",
    "encoded_testing_sentences_padded = tf.keras.preprocessing.sequence.pad_sequences(encoded_testing_sentences, padding = 'post')"
   ]
  },
  {
   "cell_type": "code",
   "execution_count": 7,
   "metadata": {},
   "outputs": [
    {
     "data": {
      "text/plain": [
       "1"
      ]
     },
     "execution_count": 7,
     "metadata": {},
     "output_type": "execute_result"
    }
   ],
   "source": [
    "#https://github.com/tensorflow/tensorflow/issues/27653\n",
    "#https://github.com/tensorflow/tensorflow/issues/36686\n",
    "temp_ragged.ragged_rank"
   ]
  },
  {
   "cell_type": "code",
   "execution_count": 24,
   "metadata": {},
   "outputs": [],
   "source": [
    "#train_dataset = tf.data.Dataset.from_tensor_slices((tf.ragged.constant(encoded_training_sentences),training_labels_final))\n",
    "train_dataset = tf.data.Dataset.from_tensor_slices((encoded_training_sentences_padded,training_labels_final))"
   ]
  },
  {
   "cell_type": "code",
   "execution_count": 26,
   "metadata": {},
   "outputs": [],
   "source": [
    "#test_dataset = tf.data.Dataset.from_tensor_slices((tf.ragged.constant(encoded_testing_sentences),testing_labels_final))\n",
    "test_dataset = tf.data.Dataset.from_tensor_slices((encoded_testing_sentences_padded ,testing_labels_final))"
   ]
  },
  {
   "cell_type": "code",
   "execution_count": 19,
   "metadata": {
    "colab": {},
    "colab_type": "code",
    "id": "DVfhKpHsPOxq"
   },
   "outputs": [],
   "source": [
    "tokenizer = encoder #info.features['text'].encoder"
   ]
  },
  {
   "cell_type": "code",
   "execution_count": 27,
   "metadata": {},
   "outputs": [
    {
     "data": {
      "text/plain": [
       "<TensorSliceDataset shapes: ((3944,), ()), types: (tf.int32, tf.int32)>"
      ]
     },
     "execution_count": 27,
     "metadata": {},
     "output_type": "execute_result"
    }
   ],
   "source": [
    "train_dataset"
   ]
  },
  {
   "cell_type": "code",
   "execution_count": 28,
   "metadata": {},
   "outputs": [
    {
     "data": {
      "text/plain": [
       "<TensorSliceDataset shapes: ((3454,), ()), types: (tf.int32, tf.int32)>"
      ]
     },
     "execution_count": 28,
     "metadata": {},
     "output_type": "execute_result"
    }
   ],
   "source": [
    "test_dataset"
   ]
  },
  {
   "cell_type": "code",
   "execution_count": 29,
   "metadata": {},
   "outputs": [
    {
     "data": {
      "text/plain": [
       "(TensorShape([3944]), TensorShape([]))"
      ]
     },
     "execution_count": 29,
     "metadata": {},
     "output_type": "execute_result"
    }
   ],
   "source": [
    "tf.compat.v1.data.get_output_shapes(train_dataset)"
   ]
  },
  {
   "cell_type": "code",
   "execution_count": 16,
   "metadata": {},
   "outputs": [
    {
     "data": {
      "text/plain": [
       "<BatchDataset shapes: ((None, None), (None,)), types: (tf.int32, tf.int32)>"
      ]
     },
     "execution_count": 16,
     "metadata": {},
     "output_type": "execute_result"
    }
   ],
   "source": [
    "train_dataset.batch(64)"
   ]
  },
  {
   "cell_type": "code",
   "execution_count": 30,
   "metadata": {
    "colab": {},
    "colab_type": "code",
    "id": "ffvRUI0_McDS"
   },
   "outputs": [],
   "source": [
    "BUFFER_SIZE = 10000\n",
    "BATCH_SIZE = 64\n",
    "\n",
    "train_dataset = train_dataset.shuffle(BUFFER_SIZE)\n",
    "train_dataset = train_dataset.padded_batch(BATCH_SIZE, tf.compat.v1.data.get_output_shapes(train_dataset))\n",
    "test_dataset = test_dataset.padded_batch(BATCH_SIZE, tf.compat.v1.data.get_output_shapes(test_dataset))\n",
    "\n",
    "# train_dataset = train_dataset.batch(BATCH_SIZE)\n",
    "# test_dataset = test_dataset.batch(BATCH_SIZE)"
   ]
  },
  {
   "cell_type": "code",
   "execution_count": 31,
   "metadata": {},
   "outputs": [
    {
     "data": {
      "text/plain": [
       "8185"
      ]
     },
     "execution_count": 31,
     "metadata": {},
     "output_type": "execute_result"
    }
   ],
   "source": [
    "tokenizer.vocab_size"
   ]
  },
  {
   "cell_type": "code",
   "execution_count": 32,
   "metadata": {
    "colab": {},
    "colab_type": "code",
    "id": "FxQooMEkMgur"
   },
   "outputs": [],
   "source": [
    "model = tf.keras.Sequential([\n",
    "    tf.keras.layers.Embedding(tokenizer.vocab_size, 64),\n",
    "    tf.keras.layers.Bidirectional(tf.keras.layers.LSTM(64)),\n",
    "    tf.keras.layers.Dense(64, activation='relu'),\n",
    "    tf.keras.layers.Dense(1, activation='sigmoid')\n",
    "])"
   ]
  },
  {
   "cell_type": "code",
   "execution_count": 33,
   "metadata": {
    "colab": {},
    "colab_type": "code",
    "id": "QKI5dfPgMioL"
   },
   "outputs": [
    {
     "name": "stdout",
     "output_type": "stream",
     "text": [
      "Model: \"sequential_1\"\n",
      "_________________________________________________________________\n",
      "Layer (type)                 Output Shape              Param #   \n",
      "=================================================================\n",
      "embedding_1 (Embedding)      (None, None, 64)          523840    \n",
      "_________________________________________________________________\n",
      "bidirectional_1 (Bidirection (None, 128)               66048     \n",
      "_________________________________________________________________\n",
      "dense_2 (Dense)              (None, 64)                8256      \n",
      "_________________________________________________________________\n",
      "dense_3 (Dense)              (None, 1)                 65        \n",
      "=================================================================\n",
      "Total params: 598,209\n",
      "Trainable params: 598,209\n",
      "Non-trainable params: 0\n",
      "_________________________________________________________________\n"
     ]
    }
   ],
   "source": [
    "model.summary()"
   ]
  },
  {
   "cell_type": "code",
   "execution_count": 34,
   "metadata": {
    "colab": {},
    "colab_type": "code",
    "id": "Uip7QOVzMoMq"
   },
   "outputs": [],
   "source": [
    "model.compile(loss='binary_crossentropy', optimizer='adam', metrics=['accuracy'])"
   ]
  },
  {
   "cell_type": "code",
   "execution_count": null,
   "metadata": {
    "colab": {},
    "colab_type": "code",
    "id": "7mlgzaRDMtF6"
   },
   "outputs": [
    {
     "name": "stdout",
     "output_type": "stream",
     "text": [
      "Epoch 1/10\n",
      "WARNING:tensorflow:From C:\\Temp\\Anaconda3\\lib\\site-packages\\tensorflow\\python\\ops\\math_grad.py:1250: add_dispatch_support.<locals>.wrapper (from tensorflow.python.ops.array_ops) is deprecated and will be removed in a future version.\n",
      "Instructions for updating:\n",
      "Use tf.where in 2.0, which has the same broadcast rule as np.where\n"
     ]
    },
    {
     "name": "stderr",
     "output_type": "stream",
     "text": [
      "WARNING:tensorflow:From C:\\Temp\\Anaconda3\\lib\\site-packages\\tensorflow\\python\\ops\\math_grad.py:1250: add_dispatch_support.<locals>.wrapper (from tensorflow.python.ops.array_ops) is deprecated and will be removed in a future version.\n",
      "Instructions for updating:\n",
      "Use tf.where in 2.0, which has the same broadcast rule as np.where\n"
     ]
    },
    {
     "name": "stdout",
     "output_type": "stream",
     "text": [
      "127/391 [========>.....................] - ETA: 7:28:43 - loss: 0.4320 - accuracy: 0.8401"
     ]
    }
   ],
   "source": [
    "NUM_EPOCHS = 10\n",
    "history = model.fit(train_dataset, epochs=NUM_EPOCHS, validation_data=test_dataset)"
   ]
  },
  {
   "cell_type": "code",
   "execution_count": 0,
   "metadata": {
    "colab": {},
    "colab_type": "code",
    "id": "Mp1Z7P9pYRSK"
   },
   "outputs": [],
   "source": [
    "import matplotlib.pyplot as plt\n",
    "\n",
    "\n",
    "def plot_graphs(history, string):\n",
    "  plt.plot(history.history[string])\n",
    "  plt.plot(history.history['val_'+string])\n",
    "  plt.xlabel(\"Epochs\")\n",
    "  plt.ylabel(string)\n",
    "  plt.legend([string, 'val_'+string])\n",
    "  plt.show()"
   ]
  },
  {
   "cell_type": "code",
   "execution_count": 0,
   "metadata": {
    "colab": {},
    "colab_type": "code",
    "id": "R_sX6ilIM515"
   },
   "outputs": [],
   "source": [
    "plot_graphs(history, 'accuracy')"
   ]
  },
  {
   "cell_type": "code",
   "execution_count": 0,
   "metadata": {
    "colab": {},
    "colab_type": "code",
    "id": "RFEXtKtqNARB"
   },
   "outputs": [],
   "source": [
    "plot_graphs(history, 'loss')"
   ]
  }
 ],
 "metadata": {
  "colab": {
   "collapsed_sections": [],
   "name": "Course 3 - Week 3 - Lesson 1a.ipynb",
   "provenance": [],
   "toc_visible": true,
   "version": "0.3.2"
  },
  "kernelspec": {
   "display_name": "Python 3",
   "language": "python",
   "name": "python3"
  },
  "language_info": {
   "codemirror_mode": {
    "name": "ipython",
    "version": 3
   },
   "file_extension": ".py",
   "mimetype": "text/x-python",
   "name": "python",
   "nbconvert_exporter": "python",
   "pygments_lexer": "ipython3",
   "version": "3.7.6"
  }
 },
 "nbformat": 4,
 "nbformat_minor": 1
}
